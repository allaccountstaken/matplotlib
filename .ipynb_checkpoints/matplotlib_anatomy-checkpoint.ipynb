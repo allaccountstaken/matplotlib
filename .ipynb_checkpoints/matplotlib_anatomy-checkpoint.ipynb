{
 "cells": [
  {
   "cell_type": "code",
   "execution_count": 5,
   "metadata": {},
   "outputs": [],
   "source": [
    "import urllib.request\n",
    "import pandas as pd"
   ]
  },
  {
   "cell_type": "code",
   "execution_count": 2,
   "metadata": {},
   "outputs": [],
   "source": [
    "data_file = urllib.request.urlopen(\"https://s3-ap-southeast-1.amazonaws.com/mettl-arq/questions/codelysis/machine-learning/fare-prediction/train.csv\")\n",
    "data = data_file.read()"
   ]
  },
  {
   "cell_type": "code",
   "execution_count": 7,
   "metadata": {},
   "outputs": [],
   "source": [
    "df = pd.read_csv(\"https://s3-ap-southeast-1.amazonaws.com/mettl-arq/questions/codelysis/machine-learning/fare-prediction/train.csv\")"
   ]
  },
  {
   "cell_type": "code",
   "execution_count": 8,
   "metadata": {},
   "outputs": [
    {
     "data": {
      "text/html": [
       "<div>\n",
       "<style scoped>\n",
       "    .dataframe tbody tr th:only-of-type {\n",
       "        vertical-align: middle;\n",
       "    }\n",
       "\n",
       "    .dataframe tbody tr th {\n",
       "        vertical-align: top;\n",
       "    }\n",
       "\n",
       "    .dataframe thead th {\n",
       "        text-align: right;\n",
       "    }\n",
       "</style>\n",
       "<table border=\"1\" class=\"dataframe\">\n",
       "  <thead>\n",
       "    <tr style=\"text-align: right;\">\n",
       "      <th></th>\n",
       "      <th>Name</th>\n",
       "      <th>Date of Birth</th>\n",
       "      <th>From</th>\n",
       "      <th>To</th>\n",
       "      <th>Flight Date</th>\n",
       "      <th>Flight Time</th>\n",
       "      <th>Booking Date</th>\n",
       "      <th>Class</th>\n",
       "      <th>Fare</th>\n",
       "    </tr>\n",
       "  </thead>\n",
       "  <tbody>\n",
       "    <tr>\n",
       "      <th>0</th>\n",
       "      <td>Dr. FG61 FS88</td>\n",
       "      <td>1963-10-23</td>\n",
       "      <td>Mumbai</td>\n",
       "      <td>Kolkata</td>\n",
       "      <td>2016-11-04</td>\n",
       "      <td>13:50</td>\n",
       "      <td>2016-10-19</td>\n",
       "      <td>Business</td>\n",
       "      <td>14737.67</td>\n",
       "    </tr>\n",
       "    <tr>\n",
       "      <th>1</th>\n",
       "      <td>Dr. FG35 FS74</td>\n",
       "      <td>1981-10-09</td>\n",
       "      <td>Lucknow</td>\n",
       "      <td>Hyderabad</td>\n",
       "      <td>2016-09-19</td>\n",
       "      <td>18:30</td>\n",
       "      <td>2016-07-31</td>\n",
       "      <td>Economy</td>\n",
       "      <td>7621.71</td>\n",
       "    </tr>\n",
       "    <tr>\n",
       "      <th>2</th>\n",
       "      <td>Dr. MG45 MS99</td>\n",
       "      <td>1981-07-09</td>\n",
       "      <td>Lucknow</td>\n",
       "      <td>Patna</td>\n",
       "      <td>2016-05-27</td>\n",
       "      <td>10:50</td>\n",
       "      <td>2016-05-24</td>\n",
       "      <td>Economy</td>\n",
       "      <td>5655.81</td>\n",
       "    </tr>\n",
       "    <tr>\n",
       "      <th>3</th>\n",
       "      <td>Mr. MG93 MS13</td>\n",
       "      <td>1988-09-08</td>\n",
       "      <td>Mumbai</td>\n",
       "      <td>Lucknow</td>\n",
       "      <td>2016-07-24</td>\n",
       "      <td>14:40</td>\n",
       "      <td>2016-07-16</td>\n",
       "      <td>Economy</td>\n",
       "      <td>7436.94</td>\n",
       "    </tr>\n",
       "    <tr>\n",
       "      <th>4</th>\n",
       "      <td>Miss FG28 FS14</td>\n",
       "      <td>1994-11-18</td>\n",
       "      <td>Kolkata</td>\n",
       "      <td>Delhi</td>\n",
       "      <td>2016-12-21</td>\n",
       "      <td>10:20</td>\n",
       "      <td>2016-12-09</td>\n",
       "      <td>Economy</td>\n",
       "      <td>3282.54</td>\n",
       "    </tr>\n",
       "  </tbody>\n",
       "</table>\n",
       "</div>"
      ],
      "text/plain": [
       "             Name Date of Birth     From         To Flight Date Flight Time  \\\n",
       "0   Dr. FG61 FS88    1963-10-23   Mumbai    Kolkata  2016-11-04       13:50   \n",
       "1   Dr. FG35 FS74    1981-10-09  Lucknow  Hyderabad  2016-09-19       18:30   \n",
       "2   Dr. MG45 MS99    1981-07-09  Lucknow      Patna  2016-05-27       10:50   \n",
       "3   Mr. MG93 MS13    1988-09-08   Mumbai    Lucknow  2016-07-24       14:40   \n",
       "4  Miss FG28 FS14    1994-11-18  Kolkata      Delhi  2016-12-21       10:20   \n",
       "\n",
       "  Booking Date     Class      Fare  \n",
       "0   2016-10-19  Business  14737.67  \n",
       "1   2016-07-31   Economy   7621.71  \n",
       "2   2016-05-24   Economy   5655.81  \n",
       "3   2016-07-16   Economy   7436.94  \n",
       "4   2016-12-09   Economy   3282.54  "
      ]
     },
     "execution_count": 8,
     "metadata": {},
     "output_type": "execute_result"
    }
   ],
   "source": [
    "df.head()"
   ]
  },
  {
   "cell_type": "code",
   "execution_count": null,
   "metadata": {},
   "outputs": [],
   "source": []
  }
 ],
 "metadata": {
  "kernelspec": {
   "display_name": "Python 3",
   "language": "python",
   "name": "python3"
  },
  "language_info": {
   "codemirror_mode": {
    "name": "ipython",
    "version": 3
   },
   "file_extension": ".py",
   "mimetype": "text/x-python",
   "name": "python",
   "nbconvert_exporter": "python",
   "pygments_lexer": "ipython3",
   "version": "3.7.3"
  }
 },
 "nbformat": 4,
 "nbformat_minor": 2
}
