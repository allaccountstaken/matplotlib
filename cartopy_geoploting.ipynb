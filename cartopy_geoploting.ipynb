{
 "cells": [
  {
   "cell_type": "code",
   "execution_count": 2,
   "metadata": {},
   "outputs": [
    {
     "name": "stdout",
     "output_type": "stream",
     "text": [
      "Collecting package metadata (repodata.json): done\n",
      "Solving environment: done\n",
      "\n",
      "## Package Plan ##\n",
      "\n",
      "  environment location: /anaconda3\n",
      "\n",
      "  added / updated specs:\n",
      "    - cartopy\n",
      "\n",
      "\n",
      "The following NEW packages will be INSTALLED:\n",
      "\n",
      "  cartopy            pkgs/main/osx-64::cartopy-0.17.0-py37haea56ea_1\n",
      "  geos               pkgs/main/osx-64::geos-3.7.1-h0a44026_0\n",
      "  owslib             pkgs/main/noarch::owslib-0.18.0-py_0\n",
      "  proj4              pkgs/main/osx-64::proj4-5.2.0-h0a44026_1\n",
      "  pyepsg             pkgs/main/osx-64::pyepsg-0.4.0-py37_0\n",
      "  pykdtree           pkgs/main/osx-64::pykdtree-1.3.1-py37h1d22016_2\n",
      "  pyproj             pkgs/main/osx-64::pyproj-1.9.6-py37h9c430a6_0\n",
      "  pyshp              pkgs/main/noarch::pyshp-2.1.0-py_0\n",
      "  shapely            pkgs/main/osx-64::shapely-1.6.4-py37he8793f5_0\n",
      "\n",
      "\n",
      "Preparing transaction: done\n",
      "Verifying transaction: done\n",
      "Executing transaction: done\n",
      "\n",
      "Note: you may need to restart the kernel to use updated packages.\n"
     ]
    }
   ],
   "source": [
    "#conda install cartopy"
   ]
  },
  {
   "cell_type": "code",
   "execution_count": 1,
   "metadata": {},
   "outputs": [
    {
     "name": "stdout",
     "output_type": "stream",
     "text": [
      "Collecting package metadata (repodata.json): done\n",
      "Solving environment: done\n",
      "\n",
      "## Package Plan ##\n",
      "\n",
      "  environment location: /anaconda3\n",
      "\n",
      "  removed specs:\n",
      "    - geos\n",
      "\n",
      "\n",
      "The following packages will be REMOVED:\n",
      "\n",
      "  cartopy-0.17.0-py37haea56ea_1\n",
      "  geos-3.7.1-h0a44026_0\n",
      "  owslib-0.18.0-py_0\n",
      "  proj4-5.2.0-h0a44026_1\n",
      "  pyepsg-0.4.0-py37_0\n",
      "  pykdtree-1.3.1-py37h1d22016_2\n",
      "  pyproj-1.9.6-py37h9c430a6_0\n",
      "  pyshp-2.1.0-py_0\n",
      "  shapely-1.6.4-py37he8793f5_0\n",
      "\n",
      "\n",
      "Preparing transaction: done\n",
      "Verifying transaction: done\n",
      "Executing transaction: done\n",
      "\n",
      "Note: you may need to restart the kernel to use updated packages.\n"
     ]
    }
   ],
   "source": [
    "#conda uninstall geos"
   ]
  },
  {
   "cell_type": "code",
   "execution_count": 1,
   "metadata": {},
   "outputs": [],
   "source": [
    "import matplotlib.pyplot as plt\n",
    "import cartopy.crs as ccrs\n",
    "import cartopy.feature as cfeature\n",
    "from cartopy.mpl.gridliner import LONGITUDE_FORMATTER, LATITUDE_FORMATTER\n",
    "import cartopy.io.shapereader as shpreader"
   ]
  },
  {
   "cell_type": "code",
   "execution_count": null,
   "metadata": {},
   "outputs": [
    {
     "name": "stderr",
     "output_type": "stream",
     "text": [
      "Geometry must be a Point or LineString\n",
      "Geometry must be a Point or LineString\n"
     ]
    }
   ],
   "source": [
    "fig = plt.figure(figsize=(15, 9))\n",
    "ax = fig.add_subplot(1, 1, 1, projection=ccrs.PlateCarree())\n",
    "ax.set_extent([-130, -66.5, 25, 47].ccrs.Geodetic())\n",
    "\n",
    "plt.show()"
   ]
  },
  {
   "cell_type": "code",
   "execution_count": 8,
   "metadata": {},
   "outputs": [],
   "source": [
    "import plotly.plotly as py\n",
    "import plotly.tools as tls"
   ]
  },
  {
   "cell_type": "code",
   "execution_count": null,
   "metadata": {},
   "outputs": [],
   "source": []
  }
 ],
 "metadata": {
  "kernelspec": {
   "display_name": "Python 3",
   "language": "python",
   "name": "python3"
  },
  "language_info": {
   "codemirror_mode": {
    "name": "ipython",
    "version": 3
   },
   "file_extension": ".py",
   "mimetype": "text/x-python",
   "name": "python",
   "nbconvert_exporter": "python",
   "pygments_lexer": "ipython3",
   "version": "3.7.3"
  }
 },
 "nbformat": 4,
 "nbformat_minor": 2
}
